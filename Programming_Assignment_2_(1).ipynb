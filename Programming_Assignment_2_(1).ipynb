{
  "cells": [
    {
      "cell_type": "markdown",
      "metadata": {
        "id": "view-in-github",
        "colab_type": "text"
      },
      "source": [
        "<a href=\"https://colab.research.google.com/github/Anujsingh09/DA_Project/blob/main/Programming_Assignment_2_(1).ipynb\" target=\"_parent\"><img src=\"https://colab.research.google.com/assets/colab-badge.svg\" alt=\"Open In Colab\"/></a>"
      ]
    },
    {
      "cell_type": "markdown",
      "id": "08c66ea5",
      "metadata": {
        "id": "08c66ea5"
      },
      "source": [
        "## Programming Assignment_2\n",
        "-------------"
      ]
    },
    {
      "cell_type": "markdown",
      "id": "4e50cf42",
      "metadata": {
        "id": "4e50cf42"
      },
      "source": [
        "1. Write a Python program to convert kilometers to miles?\n"
      ]
    },
    {
      "cell_type": "code",
      "source": [
        "# Python program to convert kilometers to miles\n",
        "\n",
        "# Function to convert kilometers to miles\n",
        "def km_to_miles(km):\n",
        "    # 1 kilometer is equal to 0.621371 miles\n",
        "    miles = km * 0.621371\n",
        "    return miles\n",
        "\n",
        "# Input kilometers from the user\n",
        "kilometers = float(input(\"Enter distance in kilometers: \"))\n",
        "\n",
        "# Convert kilometers to miles\n",
        "miles = km_to_miles(kilometers)\n",
        "\n",
        "# Print the result\n",
        "print(\"Distance in miles:\", miles)\n"
      ],
      "metadata": {
        "id": "ijuXULp7Tykm",
        "outputId": "06aa006c-7d30-4b7e-9ede-cba6819dc223",
        "colab": {
          "base_uri": "https://localhost:8080/"
        }
      },
      "id": "ijuXULp7Tykm",
      "execution_count": 1,
      "outputs": [
        {
          "output_type": "stream",
          "name": "stdout",
          "text": [
            "Enter distance in kilometers: 5\n",
            "Distance in miles: 3.106855\n"
          ]
        }
      ]
    },
    {
      "cell_type": "markdown",
      "id": "0df4e6bf",
      "metadata": {
        "id": "0df4e6bf"
      },
      "source": [
        "### 2.Write a Python program to convert Celsius to Fahrenheit?"
      ]
    },
    {
      "cell_type": "code",
      "source": [
        "def celsius_to_fahrenheit(celsius):\n",
        "    fahrenheit = (celsius * 9/5) + 32\n",
        "    return fahrenheit\n",
        "\n",
        "# Test the function\n",
        "celsius = float(input(\"Enter temperature in Celsius: \"))\n",
        "fahrenheit = celsius_to_fahrenheit(celsius)\n",
        "print(f\"{celsius} degrees Celsius is equal to {fahrenheit} degrees Fahrenheit.\")\n"
      ],
      "metadata": {
        "id": "bxtC7tuhVsLh"
      },
      "id": "bxtC7tuhVsLh",
      "execution_count": null,
      "outputs": []
    },
    {
      "cell_type": "markdown",
      "id": "46129b8e",
      "metadata": {
        "id": "46129b8e"
      },
      "source": [
        "3. Write a Python program to display calendar?\n"
      ]
    },
    {
      "cell_type": "code",
      "source": [
        "import calendar\n",
        "\n",
        "def display_calendar(year, month):\n",
        "    # Generate the calendar\n",
        "    cal = calendar.month(year, month)\n",
        "    print(\"Calendar:\")\n",
        "    print(cal)\n",
        "\n",
        "# Test the function\n",
        "year = int(input(\"Enter year: \"))\n",
        "month = int(input(\"Enter month: \"))\n",
        "display_calendar(year, month)\n"
      ],
      "metadata": {
        "id": "pB4D3IJQV-3n",
        "outputId": "1d8921e5-8113-475d-a987-a36f133da79e",
        "colab": {
          "base_uri": "https://localhost:8080/"
        }
      },
      "id": "pB4D3IJQV-3n",
      "execution_count": 4,
      "outputs": [
        {
          "output_type": "stream",
          "name": "stdout",
          "text": [
            "Enter year: 2020\n",
            "Enter month: 5\n",
            "Calendar:\n",
            "      May 2020\n",
            "Mo Tu We Th Fr Sa Su\n",
            "             1  2  3\n",
            " 4  5  6  7  8  9 10\n",
            "11 12 13 14 15 16 17\n",
            "18 19 20 21 22 23 24\n",
            "25 26 27 28 29 30 31\n",
            "\n"
          ]
        }
      ]
    },
    {
      "cell_type": "markdown",
      "id": "db2bf0f7",
      "metadata": {
        "id": "db2bf0f7"
      },
      "source": [
        "### 4. Write a Python program to solve quadratic equation?"
      ]
    },
    {
      "cell_type": "code",
      "source": [
        "import cmath\n",
        "\n",
        "def solve_quadratic(a, b, c):\n",
        "    # Calculate the discriminant\n",
        "    discriminant = (b**2) - (4*a*c)\n",
        "\n",
        "    # Check if the discriminant is positive, negative, or zero\n",
        "    if discriminant > 0:\n",
        "        # Two real and distinct roots\n",
        "        root1 = (-b + cmath.sqrt(discriminant)) / (2*a)\n",
        "        root2 = (-b - cmath.sqrt(discriminant)) / (2*a)\n",
        "        return root1, root2\n",
        "    elif discriminant == 0:\n",
        "        # Two real and equal roots\n",
        "        root = -b / (2*a)\n",
        "        return root, root\n",
        "    else:\n",
        "        # Two complex roots\n",
        "        root1 = (-b + cmath.sqrt(discriminant)) / (2*a)\n",
        "        root2 = (-b - cmath.sqrt(discriminant)) / (2*a)\n",
        "        return root1, root2\n",
        "\n",
        "# Test the function\n",
        "a = float(input(\"Enter coefficient a: \"))\n",
        "b = float(input(\"Enter coefficient b: \"))\n",
        "c = float(input(\"Enter coefficient c: \"))\n",
        "\n",
        "root1, root2 = solve_quadratic(a, b, c)\n",
        "print(\"Root 1:\", root1)\n",
        "print(\"Root 2:\", root2)\n"
      ],
      "metadata": {
        "id": "hb6UFdvrWAff",
        "outputId": "6bcfe888-0cc7-4aba-f4d9-e6a6164c9cd0",
        "colab": {
          "base_uri": "https://localhost:8080/"
        }
      },
      "id": "hb6UFdvrWAff",
      "execution_count": 3,
      "outputs": [
        {
          "output_type": "stream",
          "name": "stdout",
          "text": [
            "Enter coefficient a: 6\n",
            "Enter coefficient b: 5\n",
            "Enter coefficient c: 9\n",
            "Root 1: (-0.4166666666666667+1.1516895800904379j)\n",
            "Root 2: (-0.4166666666666667-1.1516895800904379j)\n"
          ]
        }
      ]
    },
    {
      "cell_type": "markdown",
      "id": "f70f74c9",
      "metadata": {
        "id": "f70f74c9"
      },
      "source": [
        "5. Write a Python program to swap two variables without temp variable?"
      ]
    },
    {
      "cell_type": "code",
      "source": [
        "def swap_without_temp(a, b):\n",
        "    print(\"Before swapping:\")\n",
        "    print(\"a =\", a)\n",
        "    print(\"b =\", b)\n",
        "\n",
        "    # Swap variables without temp variable\n",
        "    a, b = b, a\n",
        "\n",
        "    print(\"\\nAfter swapping:\")\n",
        "    print(\"a =\", a)\n",
        "    print(\"b =\", b)\n",
        "\n",
        "# Test the function\n",
        "a = input(\"Enter value for a: \")\n",
        "b = input(\"Enter value for b: \")\n",
        "swap_without_temp(a, b)\n"
      ],
      "metadata": {
        "id": "3KKcG7DrWKdA",
        "outputId": "9fdabb12-b1c0-4e5a-b52d-99adb6699644",
        "colab": {
          "base_uri": "https://localhost:8080/"
        }
      },
      "id": "3KKcG7DrWKdA",
      "execution_count": 2,
      "outputs": [
        {
          "output_type": "stream",
          "name": "stdout",
          "text": [
            "Enter value for a: 9\n",
            "Enter value for b: 5\n",
            "Before swapping:\n",
            "a = 9\n",
            "b = 5\n",
            "\n",
            "After swapping:\n",
            "a = 5\n",
            "b = 9\n"
          ]
        }
      ]
    }
  ],
  "metadata": {
    "kernelspec": {
      "display_name": "Python 3 (ipykernel)",
      "language": "python",
      "name": "python3"
    },
    "language_info": {
      "codemirror_mode": {
        "name": "ipython",
        "version": 3
      },
      "file_extension": ".py",
      "mimetype": "text/x-python",
      "name": "python",
      "nbconvert_exporter": "python",
      "pygments_lexer": "ipython3",
      "version": "3.9.12"
    },
    "colab": {
      "provenance": [],
      "include_colab_link": true
    }
  },
  "nbformat": 4,
  "nbformat_minor": 5
}