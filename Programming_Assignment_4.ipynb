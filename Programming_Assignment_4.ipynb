{
  "cells": [
    {
      "cell_type": "markdown",
      "metadata": {
        "id": "view-in-github",
        "colab_type": "text"
      },
      "source": [
        "<a href=\"https://colab.research.google.com/github/Anujsingh09/DA_Project/blob/main/Programming_Assignment_4.ipynb\" target=\"_parent\"><img src=\"https://colab.research.google.com/assets/colab-badge.svg\" alt=\"Open In Colab\"/></a>"
      ]
    },
    {
      "cell_type": "markdown",
      "id": "20cb4340",
      "metadata": {
        "id": "20cb4340"
      },
      "source": [
        "## Programming Assignment_4\n",
        "----------------"
      ]
    },
    {
      "cell_type": "markdown",
      "id": "4fdb6695",
      "metadata": {
        "id": "4fdb6695"
      },
      "source": [
        "### 1. Write a Python Program to Find the Factorial of a Number?"
      ]
    },
    {
      "cell_type": "code",
      "source": [
        "def factorial(n):\n",
        "    if n == 0:\n",
        "        return 1\n",
        "    else:\n",
        "        return n * factorial(n-1)\n",
        "\n",
        "# Test the function\n",
        "number = int(input(\"Enter a number: \"))\n",
        "if number < 0:\n",
        "    print(\"Factorial is not defined for negative numbers.\")\n",
        "else:\n",
        "    print(f\"The factorial of {number} is: {factorial(number)}\")\n"
      ],
      "metadata": {
        "id": "hOeAnUwS8YPP",
        "outputId": "ba484c9f-809b-407b-be54-0c03ce9e31d9",
        "colab": {
          "base_uri": "https://localhost:8080/"
        }
      },
      "id": "hOeAnUwS8YPP",
      "execution_count": 1,
      "outputs": [
        {
          "output_type": "stream",
          "name": "stdout",
          "text": [
            "Enter a number: 7\n",
            "The factorial of 7 is: 5040\n"
          ]
        }
      ]
    },
    {
      "cell_type": "markdown",
      "id": "e6beef62",
      "metadata": {
        "id": "e6beef62"
      },
      "source": [
        "### 2. Write a Python Program to Display the multiplication Table?"
      ]
    },
    {
      "cell_type": "code",
      "source": [
        "def multiplication_table(num):\n",
        "    print(f\"Multiplication Table for {num}:\")\n",
        "    for i in range(1, 11):\n",
        "        print(f\"{num} x {i} = {num*i}\")\n",
        "\n",
        "# Test the function\n",
        "number = int(input(\"Enter a number: \"))\n",
        "multiplication_table(number)\n"
      ],
      "metadata": {
        "id": "KRlnRPqETMOx",
        "outputId": "6519acc6-e4d6-4a8d-effe-95df4ef7fb89",
        "colab": {
          "base_uri": "https://localhost:8080/"
        }
      },
      "id": "KRlnRPqETMOx",
      "execution_count": 2,
      "outputs": [
        {
          "output_type": "stream",
          "name": "stdout",
          "text": [
            "Enter a number: 2\n",
            "Multiplication Table for 2:\n",
            "2 x 1 = 2\n",
            "2 x 2 = 4\n",
            "2 x 3 = 6\n",
            "2 x 4 = 8\n",
            "2 x 5 = 10\n",
            "2 x 6 = 12\n",
            "2 x 7 = 14\n",
            "2 x 8 = 16\n",
            "2 x 9 = 18\n",
            "2 x 10 = 20\n"
          ]
        }
      ]
    },
    {
      "cell_type": "markdown",
      "id": "7de7eba5",
      "metadata": {
        "id": "7de7eba5"
      },
      "source": [
        "### 3. Write a Python Program to Print the Fibonacci sequence?\n"
      ]
    },
    {
      "cell_type": "code",
      "source": [
        "def fibonacci_sequence(n):\n",
        "    fibonacci_seq = []\n",
        "    if n <= 0:\n",
        "        return fibonacci_seq\n",
        "    elif n == 1:\n",
        "        fibonacci_seq.append(0)\n",
        "        return fibonacci_seq\n",
        "    else:\n",
        "        fibonacci_seq.extend([0, 1])\n",
        "        for i in range(2, n):\n",
        "            next_fib = fibonacci_seq[-1] + fibonacci_seq[-2]\n",
        "            fibonacci_seq.append(next_fib)\n",
        "        return fibonacci_seq\n",
        "\n",
        "# Test the function\n",
        "terms = int(input(\"Enter the number of terms: \"))\n",
        "fibonacci_seq = fibonacci_sequence(terms)\n",
        "print(\"Fibonacci sequence:\")\n",
        "print(fibonacci_seq)\n"
      ],
      "metadata": {
        "id": "seyLEkhxgu1V",
        "outputId": "0537ea2c-92b0-40be-e990-3f65ed82aa80",
        "colab": {
          "base_uri": "https://localhost:8080/"
        }
      },
      "id": "seyLEkhxgu1V",
      "execution_count": 3,
      "outputs": [
        {
          "output_type": "stream",
          "name": "stdout",
          "text": [
            "Enter the number of terms: 3\n",
            "Fibonacci sequence:\n",
            "[0, 1, 1]\n"
          ]
        }
      ]
    },
    {
      "cell_type": "markdown",
      "id": "0446442e",
      "metadata": {
        "id": "0446442e"
      },
      "source": [
        "### 4. Write a Python Program to Check Armstrong Number?"
      ]
    },
    {
      "cell_type": "code",
      "source": [
        "def is_armstrong(number):\n",
        "    # Count the number of digits\n",
        "    num_digits = len(str(number))\n",
        "\n",
        "    # Initialize sum\n",
        "    sum = 0\n",
        "\n",
        "    # Calculate sum of nth power of each digit\n",
        "    temp = number\n",
        "    while temp > 0:\n",
        "        digit = temp % 10\n",
        "        sum += digit ** num_digits\n",
        "        temp //= 10\n",
        "\n",
        "    # Check if the number is Armstrong\n",
        "    if number == sum:\n",
        "        return True\n",
        "    else:\n",
        "        return False\n",
        "\n",
        "# Test the function\n",
        "number = int(input(\"Enter a number: \"))\n",
        "if is_armstrong(number):\n",
        "    print(f\"{number} is an Armstrong number.\")\n",
        "else:\n",
        "    print(f\"{number} is not an Armstrong number.\")\n"
      ],
      "metadata": {
        "id": "NQXAArGVg2u8",
        "outputId": "43f8a92b-2ca3-45cd-9f2d-04f93093eb6c",
        "colab": {
          "base_uri": "https://localhost:8080/"
        }
      },
      "id": "NQXAArGVg2u8",
      "execution_count": 4,
      "outputs": [
        {
          "output_type": "stream",
          "name": "stdout",
          "text": [
            "Enter a number: 8\n",
            "8 is an Armstrong number.\n"
          ]
        }
      ]
    },
    {
      "cell_type": "markdown",
      "id": "a6f9adfe",
      "metadata": {
        "id": "a6f9adfe"
      },
      "source": [
        "### 5. Write a Python Program to Find Armstrong Number in an Interval?"
      ]
    },
    {
      "cell_type": "code",
      "source": [
        "def is_armstrong(number):\n",
        "    # Count the number of digits\n",
        "    num_digits = len(str(number))\n",
        "\n",
        "    # Initialize sum\n",
        "    sum = 0\n",
        "\n",
        "    # Calculate sum of nth power of each digit\n",
        "    temp = number\n",
        "    while temp > 0:\n",
        "        digit = temp % 10\n",
        "        sum += digit ** num_digits\n",
        "        temp //= 10\n",
        "\n",
        "    # Check if the number is Armstrong\n",
        "    if number == sum:\n",
        "        return True\n",
        "    else:\n",
        "        return False\n",
        "\n",
        "def find_armstrong_numbers(start, end):\n",
        "    armstrong_numbers = []\n",
        "    for num in range(start, end + 1):\n",
        "        if is_armstrong(num):\n",
        "            armstrong_numbers.append(num)\n",
        "    return armstrong_numbers\n",
        "\n",
        "# Test the function\n",
        "start = int(input(\"Enter the start of the interval: \"))\n",
        "end = int(input(\"Enter the end of the interval: \"))\n",
        "\n",
        "print(f\"Armstrong numbers in the interval [{start}, {end}]:\")\n",
        "print(find_armstrong_numbers(start, end))\n"
      ],
      "metadata": {
        "id": "XLswm2P4g9vQ",
        "outputId": "ea4e672a-fc90-4170-cc4e-8469ce7ca527",
        "colab": {
          "base_uri": "https://localhost:8080/"
        }
      },
      "id": "XLswm2P4g9vQ",
      "execution_count": 5,
      "outputs": [
        {
          "output_type": "stream",
          "name": "stdout",
          "text": [
            "Enter the start of the interval: 12\n",
            "Enter the end of the interval: 90\n",
            "Armstrong numbers in the interval [12, 90]:\n",
            "[]\n"
          ]
        }
      ]
    },
    {
      "cell_type": "markdown",
      "source": [],
      "metadata": {
        "id": "qbmbp0_822o1"
      },
      "id": "qbmbp0_822o1"
    },
    {
      "cell_type": "markdown",
      "id": "157cad60",
      "metadata": {
        "id": "157cad60"
      },
      "source": [
        "### 6. Write a Python Program to Find the Sum of Natural Numbers?"
      ]
    },
    {
      "cell_type": "code",
      "source": [
        "def sum_of_natural_numbers(n):\n",
        "    if n < 0:\n",
        "        return \"Invalid input. Please enter a positive integer.\"\n",
        "    else:\n",
        "        return (n * (n + 1)) // 2\n",
        "\n",
        "# Test the function\n",
        "number = int(input(\"Enter a positive integer: \"))\n",
        "result = sum_of_natural_numbers(number)\n",
        "print(f\"The sum of natural numbers up to {number} is: {result}\")\n"
      ],
      "metadata": {
        "id": "clQi5qA7hLaA",
        "outputId": "fdad0127-d467-4be7-a7ef-e377f0fafcb5",
        "colab": {
          "base_uri": "https://localhost:8080/"
        }
      },
      "id": "clQi5qA7hLaA",
      "execution_count": 6,
      "outputs": [
        {
          "output_type": "stream",
          "name": "stdout",
          "text": [
            "Enter a positive integer: 4\n",
            "The sum of natural numbers up to 4 is: 10\n"
          ]
        }
      ]
    }
  ],
  "metadata": {
    "kernelspec": {
      "display_name": "Python 3 (ipykernel)",
      "language": "python",
      "name": "python3"
    },
    "language_info": {
      "codemirror_mode": {
        "name": "ipython",
        "version": 3
      },
      "file_extension": ".py",
      "mimetype": "text/x-python",
      "name": "python",
      "nbconvert_exporter": "python",
      "pygments_lexer": "ipython3",
      "version": "3.9.12"
    },
    "colab": {
      "provenance": [],
      "include_colab_link": true
    }
  },
  "nbformat": 4,
  "nbformat_minor": 5
}