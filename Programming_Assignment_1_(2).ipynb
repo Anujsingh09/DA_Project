{
  "cells": [
    {
      "cell_type": "markdown",
      "metadata": {
        "id": "view-in-github",
        "colab_type": "text"
      },
      "source": [
        "<a href=\"https://colab.research.google.com/github/Anujsingh09/DA_Project/blob/main/Programming_Assignment_1_(2).ipynb\" target=\"_parent\"><img src=\"https://colab.research.google.com/assets/colab-badge.svg\" alt=\"Open In Colab\"/></a>"
      ]
    },
    {
      "cell_type": "markdown",
      "id": "637b47a5",
      "metadata": {
        "id": "637b47a5"
      },
      "source": [
        "## Programming Assignment_1\n",
        "-------------"
      ]
    },
    {
      "cell_type": "markdown",
      "id": "0c647dbe",
      "metadata": {
        "id": "0c647dbe"
      },
      "source": [
        "### 1. Write a Python program to print \"Hello Python\"?"
      ]
    },
    {
      "cell_type": "code",
      "source": [
        "print(\"Hello Python\")\n"
      ],
      "metadata": {
        "id": "EyD1gkwDOhjZ",
        "outputId": "5fc8db8a-255e-4db8-801f-d6ff219449d4",
        "colab": {
          "base_uri": "https://localhost:8080/"
        }
      },
      "id": "EyD1gkwDOhjZ",
      "execution_count": 1,
      "outputs": [
        {
          "output_type": "stream",
          "name": "stdout",
          "text": [
            "Hello Python\n"
          ]
        }
      ]
    },
    {
      "cell_type": "markdown",
      "id": "fc18a6cd",
      "metadata": {
        "id": "fc18a6cd"
      },
      "source": [
        "### 2. Write a Python program to do arithmetical operations addition and division.?\n"
      ]
    },
    {
      "cell_type": "code",
      "source": [
        "# Arithmetical operations: Addition and Division\n",
        "\n",
        "# Addition\n",
        "num1 = 10\n",
        "num2 = 5\n",
        "sum_result = num1 + num2\n",
        "print( sum_result)\n",
        "\n",
        "# Division\n",
        "numerator = 20\n",
        "denominator = 4\n",
        "division_result = numerator / denominator\n",
        "print( division_result)\n"
      ],
      "metadata": {
        "id": "JNdTfT6CO0vR",
        "outputId": "ae2cfccf-12e8-4cf6-d5a3-704385d3dddc",
        "colab": {
          "base_uri": "https://localhost:8080/"
        }
      },
      "id": "JNdTfT6CO0vR",
      "execution_count": 4,
      "outputs": [
        {
          "output_type": "stream",
          "name": "stdout",
          "text": [
            "15\n",
            "5.0\n"
          ]
        }
      ]
    },
    {
      "cell_type": "markdown",
      "id": "af6e2429",
      "metadata": {
        "id": "af6e2429"
      },
      "source": [
        "### 3. Write a Python program to find the area of a triangle?\n"
      ]
    },
    {
      "cell_type": "code",
      "source": [
        "# Python program to find the area of a triangle\n",
        "\n",
        "# Function to calculate the area of a triangle\n",
        "def triangle_area(base, height):\n",
        "    area = 0.5 * base * height\n",
        "    return area\n",
        "\n",
        "# Input base and height of the triangle\n",
        "base = float(input(\"Enter the base of the triangle: \"))\n",
        "height = float(input(\"Enter the height of the triangle: \"))\n",
        "\n",
        "# Calculate the area of the triangle\n",
        "area = triangle_area(base, height)\n",
        "\n",
        "# Print the result\n",
        "print(\"The area of the triangle is:\", area)\n"
      ],
      "metadata": {
        "id": "vjCgIF0sQGWK",
        "outputId": "39b2bfd2-d7ab-42b3-b660-096040cdd0ee",
        "colab": {
          "base_uri": "https://localhost:8080/"
        }
      },
      "id": "vjCgIF0sQGWK",
      "execution_count": 7,
      "outputs": [
        {
          "output_type": "stream",
          "name": "stdout",
          "text": [
            "Enter the base of the triangle: 3\n",
            "Enter the height of the triangle: 5\n",
            "The area of the triangle is: 7.5\n"
          ]
        }
      ]
    },
    {
      "cell_type": "markdown",
      "id": "b8140061",
      "metadata": {
        "id": "b8140061"
      },
      "source": [
        "### 4. Write a Python program to swap two variables?\n"
      ]
    },
    {
      "cell_type": "code",
      "source": [
        "# Python program to swap two variables\n",
        "\n",
        "# Function to swap two variables\n",
        "def swap_variables(a, b):\n",
        "    temp = a\n",
        "    a = b\n",
        "    b = temp\n",
        "    return a, b\n",
        "\n",
        "# Input two variables\n",
        "a = input(\"Enter value of first variable: \")\n",
        "b = input(\"Enter value of second variable: \")\n",
        "\n",
        "# Print values before swapping\n",
        "print(\"Before swapping:\")\n",
        "print(\"First variable:\", a)\n",
        "print(\"Second variable:\", b)\n",
        "\n",
        "# Swap variables\n",
        "a, b = swap_variables(a, b)\n",
        "\n",
        "# Print values after swapping\n",
        "print(\"\\nAfter swapping:\")\n",
        "print(\"First variable:\", a)\n",
        "print(\"Second variable:\", b)\n"
      ],
      "metadata": {
        "id": "5mxzeWDuQ_he",
        "outputId": "a03ebe16-c73d-4b8c-e391-59e1b8e76012",
        "colab": {
          "base_uri": "https://localhost:8080/"
        }
      },
      "id": "5mxzeWDuQ_he",
      "execution_count": 9,
      "outputs": [
        {
          "output_type": "stream",
          "name": "stdout",
          "text": [
            "Enter value of first variable: 4\n",
            "Enter value of second variable: 5\n",
            "Before swapping:\n",
            "First variable: 4\n",
            "Second variable: 5\n",
            "\n",
            "After swapping:\n",
            "First variable: 5\n",
            "Second variable: 4\n"
          ]
        }
      ]
    },
    {
      "cell_type": "markdown",
      "id": "3f8054c1",
      "metadata": {
        "id": "3f8054c1"
      },
      "source": [
        "### 5. Write a Python program to generate a random number?\n"
      ]
    },
    {
      "cell_type": "code",
      "source": [
        "# Python program to generate a random number\n",
        "\n",
        "import random\n",
        "\n",
        "# Generate a random integer between 1 and 100\n",
        "random_number = random.randint(1, 100)\n",
        "\n",
        "# Print the random number\n",
        "print(\"Random number:\", random_number)\n"
      ],
      "metadata": {
        "id": "UB9mg4jLSnYD",
        "outputId": "419350e8-f46c-4728-e060-1f9606b12fd7",
        "colab": {
          "base_uri": "https://localhost:8080/"
        }
      },
      "id": "UB9mg4jLSnYD",
      "execution_count": 10,
      "outputs": [
        {
          "output_type": "stream",
          "name": "stdout",
          "text": [
            "Random number: 23\n"
          ]
        }
      ]
    }
  ],
  "metadata": {
    "kernelspec": {
      "display_name": "Python 3 (ipykernel)",
      "language": "python",
      "name": "python3"
    },
    "language_info": {
      "codemirror_mode": {
        "name": "ipython",
        "version": 3
      },
      "file_extension": ".py",
      "mimetype": "text/x-python",
      "name": "python",
      "nbconvert_exporter": "python",
      "pygments_lexer": "ipython3",
      "version": "3.9.12"
    },
    "colab": {
      "provenance": [],
      "include_colab_link": true
    }
  },
  "nbformat": 4,
  "nbformat_minor": 5
}